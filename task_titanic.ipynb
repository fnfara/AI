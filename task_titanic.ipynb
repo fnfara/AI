{
 "cells": [
  {
   "cell_type": "code",
   "id": "initial_id",
   "metadata": {
    "collapsed": true,
    "ExecuteTime": {
     "end_time": "2025-05-15T02:36:50.929169Z",
     "start_time": "2025-05-15T02:36:50.908530Z"
    }
   },
   "source": [
    "import pandas as pd\n",
    "from scipy.stats import shapiro, levene, f_oneway, ttest_ind, binomtest\n",
    "\n",
    "df = pd.read_csv(\"Titanic-Dataset.csv\")\n"
   ],
   "outputs": [],
   "execution_count": 31
  },
  {
   "metadata": {
    "ExecuteTime": {
     "end_time": "2025-05-15T02:36:50.961924Z",
     "start_time": "2025-05-15T02:36:50.946786Z"
    }
   },
   "cell_type": "code",
   "source": [
    "women_survived = df[(df['Sex'] == 'female') & (df['Survived'] == 1)]['Age'].dropna()\n",
    "women_not_survived = df[(df['Sex'] == 'female') & (df['Survived'] == 0)]['Age'].dropna()\n",
    "men_survived = df[(df['Sex'] == 'male') & (df['Survived'] == 1)]['Age'].dropna()\n",
    "men_not_survived = df[(df['Sex'] == 'male') & (df['Survived'] == 0)]['Age'].dropna()\n",
    "\n",
    "print(\"\\nПроверка нормальности распределения (тест Шапиро-Уилка):\")"
   ],
   "id": "eb5ab40ff3a4b5d",
   "outputs": [
    {
     "name": "stdout",
     "output_type": "stream",
     "text": [
      "\n",
      "Проверка нормальности распределения (тест Шапиро-Уилка):\n"
     ]
    }
   ],
   "execution_count": 32
  },
  {
   "metadata": {
    "ExecuteTime": {
     "end_time": "2025-05-15T02:36:51.009537Z",
     "start_time": "2025-05-15T02:36:51.003581Z"
    }
   },
   "cell_type": "code",
   "source": [
    "shapiro_women_survved = shapiro(women_survived)\n",
    "print(f\"Выжившие женщины: статистика={shapiro_women_survived.statistic:.4f}, p-value={shapiro_women_survived.pvalue:.4f}\")\n"
   ],
   "id": "8e373c0b2f3d2e97",
   "outputs": [
    {
     "name": "stdout",
     "output_type": "stream",
     "text": [
      "Выжившие женщины: статистика=0.9828, p-value=0.0163\n"
     ]
    }
   ],
   "execution_count": 33
  },
  {
   "metadata": {
    "ExecuteTime": {
     "end_time": "2025-05-15T02:36:51.049924Z",
     "start_time": "2025-05-15T02:36:51.035178Z"
    }
   },
   "cell_type": "code",
   "source": [
    "shapiro_women_not_survived = shapiro(women_not_survived)\n",
    "print(f\"Погибшие женщины: статистика={shapiro_women_not_survived.statistic:.4f}, p-value={shapiro_women_not_survived.pvalue:.4f}\")"
   ],
   "id": "b59a58d6d08ff65f",
   "outputs": [
    {
     "name": "stdout",
     "output_type": "stream",
     "text": [
      "Погибшие женщины: статистика=0.9739, p-value=0.1928\n"
     ]
    }
   ],
   "execution_count": 34
  },
  {
   "metadata": {
    "ExecuteTime": {
     "end_time": "2025-05-15T02:36:51.105475Z",
     "start_time": "2025-05-15T02:36:51.098718Z"
    }
   },
   "cell_type": "code",
   "source": [
    "shapiro_men_survived = shapiro(men_survived)\n",
    "print(f\"Выжившие мужчины: статистика={shapiro_men_survived.statistic:.4f}, p-value={shapiro_men_survived.pvalue:.4f}\")"
   ],
   "id": "216904fd2d921a9f",
   "outputs": [
    {
     "name": "stdout",
     "output_type": "stream",
     "text": [
      "Выжившие мужчины: статистика=0.9621, p-value=0.0085\n"
     ]
    }
   ],
   "execution_count": 35
  },
  {
   "metadata": {
    "ExecuteTime": {
     "end_time": "2025-05-15T02:36:51.146886Z",
     "start_time": "2025-05-15T02:36:51.139095Z"
    }
   },
   "cell_type": "code",
   "source": [
    "shapiro_men_not_survived = shapiro(men_not_survived)\n",
    "print(f\"Погибшие мужчины: статистика={shapiro_men_not_survived.statistic:.4f}, p-value={shapiro_men_not_survived.pvalue:.4f}\")\n"
   ],
   "id": "8df5bccbd9214002",
   "outputs": [
    {
     "name": "stdout",
     "output_type": "stream",
     "text": [
      "Погибшие мужчины: статистика=0.9593, p-value=0.0000\n"
     ]
    }
   ],
   "execution_count": 36
  },
  {
   "metadata": {
    "ExecuteTime": {
     "end_time": "2025-05-15T02:36:51.195853Z",
     "start_time": "2025-05-15T02:36:51.188624Z"
    }
   },
   "cell_type": "code",
   "source": "print(\"\\nПроверка однородности дисперсий (тест Левина):\")",
   "id": "92a1de6f79a33afb",
   "outputs": [
    {
     "name": "stdout",
     "output_type": "stream",
     "text": [
      "\n",
      "Проверка однородности дисперсий (тест Левина):\n"
     ]
    }
   ],
   "execution_count": 37
  },
  {
   "metadata": {
    "ExecuteTime": {
     "end_time": "2025-05-15T02:36:51.242643Z",
     "start_time": "2025-05-15T02:36:51.233735Z"
    }
   },
   "cell_type": "code",
   "source": [
    "levene_result = levene(women_survived, women_not_survived, men_survived, men_not_survived)\n",
    "print(f\"Статистика={levene_result.statistic:.4f}, p-value={levene_result.pvalue:.4f}\")"
   ],
   "id": "230b87bf6608d55b",
   "outputs": [
    {
     "name": "stdout",
     "output_type": "stream",
     "text": [
      "Статистика=1.0647, p-value=0.3634\n"
     ]
    }
   ],
   "execution_count": 38
  },
  {
   "metadata": {
    "ExecuteTime": {
     "end_time": "2025-05-15T02:36:51.266655Z",
     "start_time": "2025-05-15T02:36:51.261719Z"
    }
   },
   "cell_type": "code",
   "source": [
    "alpha = 0.05\n",
    "all_normal = all(p > alpha for p in [\n",
    "    shapiro_women_survived.pvalue,\n",
    "    shapiro_women_not_survived.pvalue,\n",
    "    shapiro_men_survived.pvalue,\n",
    "    shapiro_men_not_survived.pvalue\n",
    "])\n"
   ],
   "id": "9c6c66fba62e012",
   "outputs": [],
   "execution_count": 39
  },
  {
   "metadata": {
    "ExecuteTime": {
     "end_time": "2025-05-15T02:36:51.310201Z",
     "start_time": "2025-05-15T02:36:51.304200Z"
    }
   },
   "cell_type": "code",
   "source": [
    "if all_normal:\n",
    "    print(\"\\nВсе распределения можно считать нормальными (p > 0.05)\")\n",
    "    print(\"Применяем ANOVA согласно требованиям задачи:\")\n",
    "    anova_result = f_oneway(women_survived, women_not_survived, men_survived, men_not_survived)\n",
    "    print(f\"Статистика F={anova_result.statistic:.4f}, p-value={anova_result.pvalue:.4f}\")\n",
    "\n",
    "    if anova_result.pvalue < alpha:\n",
    "        print(f\"Вывод: p-value ({anova_result.pvalue:.4f}) < {alpha}, поэтому отвергаем нулевую гипотезу.\")\n",
    "        print(\"Возрастные распределения в группах статистически различны.\")\n",
    "    else:\n",
    "        print(f\"Вывод: p-value ({anova_result.pvalue:.4f}) > {alpha}, поэтому принимаем нулевую гипотезу.\")\n",
    "        print(\"Возрастные распределения в группах статистически одинаковы.\")\n",
    "else:\n",
    "    print(\"\\nНе все распределения можно считать нормальными (p < 0.05)\")\n",
    "    print(\"Применяем биномиальный тест согласно требованиям задачи.\")"
   ],
   "id": "557eb73591effa86",
   "outputs": [
    {
     "name": "stdout",
     "output_type": "stream",
     "text": [
      "\n",
      "Не все распределения можно считать нормальными (p < 0.05)\n",
      "Применяем биномиальный тест согласно требованиям задачи.\n"
     ]
    }
   ],
   "execution_count": 40
  },
  {
   "metadata": {
    "ExecuteTime": {
     "end_time": "2025-05-15T02:36:51.371127Z",
     "start_time": "2025-05-15T02:36:51.351939Z"
    }
   },
   "cell_type": "code",
   "source": [
    "median_age = pd.concat([women_survived, women_not_survived, men_survived, men_not_survived]).median()\n",
    "print(f\"Медианный возраст всех пассажиров: {median_age:.2f}\")\n",
    "\n",
    "ws_binary = (women_survived > median_age).sum()\n",
    "wns_binary = (women_not_survived > median_age).sum()\n",
    "ms_binary = (men_survived > median_age).sum()\n",
    "mns_binary = (men_not_survived > median_age).sum()\n",
    "\n",
    "print(\"\\nРезультаты биномиальных тестов (проверка пропорции пассажиров старше медианного возраста):\")\n",
    "\n",
    "binom_ws = binomtest(ws_binary, len(women_survived), 0.5)\n",
    "binom_wns = binomtest(wns_binary, len(women_not_survived), 0.5)\n",
    "binom_ms = binomtest(ms_binary, len(men_survived), 0.5)\n",
    "binom_mns = binomtest(mns_binary, len(men_not_survived), 0.5)\n",
    "\n",
    "print(f\"Выжившие женщины: доля старше медианы={ws_binary/len(women_survived):.4f}, p-value={binom_ws.pvalue:.4f}\")\n",
    "print(f\"Погибшие женщины: доля старше медианы={wns_binary/len(women_not_survived):.4f}, p-value={binom_wns.pvalue:.4f}\")\n",
    "print(f\"Выжившие мужчины: доля старше медианы={ms_binary/len(men_survived):.4f}, p-value={binom_ms.pvalue:.4f}\")\n",
    "print(f\"Погибшие мужчины: доля старше медианы={mns_binary/len(men_not_survived):.4f}, p-value={binom_mns.pvalue:.4f}\")\n",
    "\n",
    "\n",
    "print(\"\\nВывод на основе биномиальных тестов:\")\n",
    "significant_diff = any(p < alpha for p in [binom_ws.pvalue, binom_wns.pvalue, binom_ms.pvalue, binom_mns.pvalue])\n",
    "if significant_diff:\n",
    "    print(\"Обнаружены статистически значимые различия в возрастных распределениях групп.\")\n",
    "    print(\"По крайней мере в одной группе пропорция пассажиров старше медианного возраста\")\n",
    "    print(\"значимо отличается от ожидаемой при равномерном распределении.\")\n",
    "else:\n",
    "    print(\"Не обнаружено статистически значимых различий в возрастных распределениях групп.\")\n",
    "    print(\"Во всех группах пропорция пассажиров старше медианного возраста\")\n",
    "    print(\"статистически не отличается от ожидаемой при равномерном распределении.\")\n",
    "\n"
   ],
   "id": "f2bfce0c1c0767db",
   "outputs": [
    {
     "name": "stdout",
     "output_type": "stream",
     "text": [
      "Медианный возраст всех пассажиров: 28.00\n",
      "\n",
      "Результаты биномиальных тестов (проверка пропорции пассажиров старше медианного возраста):\n",
      "Выжившие женщины: доля старше медианы=0.4924, p-value=0.8867\n",
      "Погибшие женщины: доля старше медианы=0.3750, p-value=0.0599\n",
      "Выжившие мужчины: доля старше медианы=0.4839, p-value=0.8358\n",
      "Погибшие мужчины: доля старше медианы=0.5167, p-value=0.5621\n",
      "\n",
      "Вывод на основе биномиальных тестов:\n",
      "Не обнаружено статистически значимых различий в возрастных распределениях групп.\n",
      "Во всех группах пропорция пассажиров старше медианного возраста\n",
      "статистически не отличается от ожидаемой при равномерном распределении.\n"
     ]
    }
   ],
   "execution_count": 41
  }
 ],
 "metadata": {
  "kernelspec": {
   "display_name": "Python 3",
   "language": "python",
   "name": "python3"
  },
  "language_info": {
   "codemirror_mode": {
    "name": "ipython",
    "version": 2
   },
   "file_extension": ".py",
   "mimetype": "text/x-python",
   "name": "python",
   "nbconvert_exporter": "python",
   "pygments_lexer": "ipython2",
   "version": "2.7.6"
  }
 },
 "nbformat": 4,
 "nbformat_minor": 5
}
