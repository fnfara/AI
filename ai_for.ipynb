{
 "cells": [
  {
   "cell_type": "code",
   "id": "initial_id",
   "metadata": {
    "collapsed": true,
    "ExecuteTime": {
     "end_time": "2025-05-13T05:32:38.754898Z",
     "start_time": "2025-05-13T05:32:38.746661Z"
    }
   },
   "source": [
    "import numpy as np\n",
    "a = np.array([1, 2.5, 3])\n",
    "print(a)\n",
    "print(a.dtype)\n",
    "b = np.array(['text', 1, 2.5])\n",
    "print(b)\n",
    "print(b.dtype)\n"
   ],
   "outputs": [
    {
     "name": "stdout",
     "output_type": "stream",
     "text": [
      "[1.  2.5 3. ]\n",
      "float64\n",
      "['text' '1' '2.5']\n",
      "<U32\n"
     ]
    }
   ],
   "execution_count": 7
  },
  {
   "metadata": {
    "ExecuteTime": {
     "end_time": "2025-05-13T05:36:37.495002Z",
     "start_time": "2025-05-13T05:36:37.485709Z"
    }
   },
   "cell_type": "code",
   "source": [
    "a = np.zeros((4,3,2))\n",
    "print(a)\n",
    "print()\n",
    "a = np.zeros((4, 3, 2), dtype='int8')"
   ],
   "id": "2777b4608629cb18",
   "outputs": [
    {
     "name": "stdout",
     "output_type": "stream",
     "text": [
      "[[[0. 0.]\n",
      "  [0. 0.]\n",
      "  [0. 0.]]\n",
      "\n",
      " [[0. 0.]\n",
      "  [0. 0.]\n",
      "  [0. 0.]]\n",
      "\n",
      " [[0. 0.]\n",
      "  [0. 0.]\n",
      "  [0. 0.]]\n",
      "\n",
      " [[0. 0.]\n",
      "  [0. 0.]\n",
      "  [0. 0.]]]\n",
      "\n"
     ]
    }
   ],
   "execution_count": 12
  },
  {
   "metadata": {},
   "cell_type": "code",
   "outputs": [],
   "execution_count": null,
   "source": "",
   "id": "ffaa6072cb8815e3"
  },
  {
   "metadata": {
    "ExecuteTime": {
     "end_time": "2025-05-13T05:34:39.881195Z",
     "start_time": "2025-05-13T05:34:39.872940Z"
    }
   },
   "cell_type": "code",
   "source": [
    "a = np.ones((4, 3))\n",
    "print(a)\n"
   ],
   "id": "5598cb1713e75640",
   "outputs": [
    {
     "name": "stdout",
     "output_type": "stream",
     "text": [
      "[[1. 1. 1.]\n",
      " [1. 1. 1.]\n",
      " [1. 1. 1.]\n",
      " [1. 1. 1.]]\n"
     ]
    }
   ],
   "execution_count": 8
  },
  {
   "metadata": {
    "ExecuteTime": {
     "end_time": "2025-05-13T05:35:15.924940Z",
     "start_time": "2025-05-13T05:35:15.911972Z"
    }
   },
   "cell_type": "code",
   "source": [
    "a = np.eye(5, 5, dtype='int8')\n",
    "print(a)"
   ],
   "id": "84a50f54158ff31f",
   "outputs": [
    {
     "name": "stdout",
     "output_type": "stream",
     "text": [
      "[[1 0 0 0 0]\n",
      " [0 1 0 0 0]\n",
      " [0 0 1 0 0]\n",
      " [0 0 0 1 0]\n",
      " [0 0 0 0 1]]\n"
     ]
    }
   ],
   "execution_count": 9
  },
  {
   "metadata": {
    "ExecuteTime": {
     "end_time": "2025-05-13T05:41:37.613622Z",
     "start_time": "2025-05-13T05:41:37.599006Z"
    }
   },
   "cell_type": "code",
   "source": [
    "a = np.arange(1, 10)\n",
    "print(a)\n",
    "print()\n",
    "a = np.arange(1, 5, 0.4)\n",
    "print(a)"
   ],
   "id": "f746c14b7616eb6a",
   "outputs": [
    {
     "name": "stdout",
     "output_type": "stream",
     "text": [
      "[1 2 3 4 5 6 7 8 9]\n",
      "\n",
      "[1.  1.4 1.8 2.2 2.6 3.  3.4 3.8 4.2 4.6]\n"
     ]
    }
   ],
   "execution_count": 13
  },
  {
   "metadata": {
    "ExecuteTime": {
     "end_time": "2025-05-13T05:43:10.794305Z",
     "start_time": "2025-05-13T05:43:10.781280Z"
    }
   },
   "cell_type": "code",
   "source": [
    "\n",
    "a = np.linspace(1, 5, 10)\n",
    "print(a)\n"
   ],
   "id": "b9af9c7f27afdf0c",
   "outputs": [
    {
     "name": "stdout",
     "output_type": "stream",
     "text": [
      "[1.         1.44444444 1.88888889 2.33333333 2.77777778 3.22222222\n",
      " 3.66666667 4.11111111 4.55555556 5.        ]\n"
     ]
    }
   ],
   "execution_count": 15
  },
  {
   "metadata": {
    "ExecuteTime": {
     "end_time": "2025-05-13T05:47:59.172811Z",
     "start_time": "2025-05-13T05:47:59.156749Z"
    }
   },
   "cell_type": "code",
   "source": [
    "a = np.zeros((4,3), dtype='int8')\n",
    "print(a)\n",
    "print()\n",
    "a = a.reshape((2,6))\n",
    "print(a)"
   ],
   "id": "4b30b3c9b6d4d1e5",
   "outputs": [
    {
     "name": "stdout",
     "output_type": "stream",
     "text": [
      "[[0 0 0]\n",
      " [0 0 0]\n",
      " [0 0 0]\n",
      " [0 0 0]]\n",
      "\n",
      "[[0 0 0 0 0 0]\n",
      " [0 0 0 0 0 0]]\n"
     ]
    }
   ],
   "execution_count": 16
  },
  {
   "metadata": {},
   "cell_type": "code",
   "outputs": [],
   "execution_count": null,
   "source": "",
   "id": "9c862bef3dba113e"
  },
  {
   "metadata": {
    "ExecuteTime": {
     "end_time": "2025-05-13T05:58:08.274307Z",
     "start_time": "2025-05-13T05:58:08.263346Z"
    }
   },
   "cell_type": "code",
   "source": [
    "a = np.arange(1,13).reshape(4,3)\n",
    "print(a)\n",
    "print('Transpose')\n",
    "print(a.transpose())\n",
    "print('Turn left')\n",
    "print(np.rot90(a))\n",
    "print('Turn right')\n",
    "print(np.rot90(a, -1))\n"
   ],
   "id": "b7aef98952027ef8",
   "outputs": [
    {
     "name": "stdout",
     "output_type": "stream",
     "text": [
      "[[ 1  2  3]\n",
      " [ 4  5  6]\n",
      " [ 7  8  9]\n",
      " [10 11 12]]\n",
      "Transpose\n",
      "[[ 1  4  7 10]\n",
      " [ 2  5  8 11]\n",
      " [ 3  6  9 12]]\n",
      "Turn left\n",
      "[[ 3  6  9 12]\n",
      " [ 2  5  8 11]\n",
      " [ 1  4  7 10]]\n",
      "Turn right\n",
      "[[10  7  4  1]\n",
      " [11  8  5  2]\n",
      " [12  9  6  3]]\n"
     ]
    }
   ],
   "execution_count": 19
  },
  {
   "metadata": {
    "ExecuteTime": {
     "end_time": "2025-05-13T06:01:05.588044Z",
     "start_time": "2025-05-13T06:01:05.573873Z"
    }
   },
   "cell_type": "code",
   "source": [
    "a = np.array([[1,2,3], [4,5,6], [7,8,9]])\n",
    "print(a.max())\n",
    "print(a.min())\n",
    "print(a.sum())"
   ],
   "id": "8b1fad7d4980c4de",
   "outputs": [
    {
     "name": "stdout",
     "output_type": "stream",
     "text": [
      "9\n",
      "1\n",
      "45\n"
     ]
    }
   ],
   "execution_count": 20
  },
  {
   "metadata": {
    "ExecuteTime": {
     "end_time": "2025-05-13T06:02:52.969766Z",
     "start_time": "2025-05-13T06:02:52.954384Z"
    }
   },
   "cell_type": "code",
   "source": [
    "a = np.array([[1,2,3], [4,5,6], [7,8,9]])\n",
    "print(a.sum(axis=0))\n",
    "print(a.sum(axis=1))\n",
    "print(a.min(axis=0))\n",
    "print(a.min(axis=1))\n",
    "print(a.max(axis=0))\n",
    "print(a.max(axis=1))"
   ],
   "id": "cd3182ce4d1b6287",
   "outputs": [
    {
     "name": "stdout",
     "output_type": "stream",
     "text": [
      "[12 15 18]\n",
      "[ 6 15 24]\n",
      "[1 2 3]\n",
      "[1 4 7]\n",
      "[7 8 9]\n",
      "[3 6 9]\n"
     ]
    }
   ],
   "execution_count": 21
  },
  {
   "metadata": {
    "ExecuteTime": {
     "end_time": "2025-05-13T06:08:20.106576Z",
     "start_time": "2025-05-13T06:08:20.093461Z"
    }
   },
   "cell_type": "code",
   "source": [
    "a = np.arange(1,13).reshape(3,4)\n",
    "print(a)\n",
    "print(a[:2,2:])\n",
    "print()\n",
    "print(a[:,::2])"
   ],
   "id": "51beb6955e2f2d85",
   "outputs": [
    {
     "name": "stdout",
     "output_type": "stream",
     "text": [
      "[[ 1  2  3  4]\n",
      " [ 5  6  7  8]\n",
      " [ 9 10 11 12]]\n",
      "[[3 4]\n",
      " [7 8]]\n",
      "\n",
      "[[ 1  3]\n",
      " [ 5  7]\n",
      " [ 9 11]]\n",
      "[[ 1  2  3  4]\n",
      " [ 5  6  7  8]\n",
      " [ 9 10 11 12]]\n"
     ]
    }
   ],
   "execution_count": 22
  },
  {
   "metadata": {
    "ExecuteTime": {
     "end_time": "2025-05-13T06:11:01.384729Z",
     "start_time": "2025-05-13T06:11:01.370697Z"
    }
   },
   "cell_type": "code",
   "source": [
    "print(a)\n",
    "for row in a:\n",
    "    print(row)"
   ],
   "id": "d2ed17e5a79eba5c",
   "outputs": [
    {
     "name": "stdout",
     "output_type": "stream",
     "text": [
      "[[ 1  2  3  4]\n",
      " [ 5  6  7  8]\n",
      " [ 9 10 11 12]]\n",
      "[1 2 3 4]\n",
      "[5 6 7 8]\n",
      "[ 9 10 11 12]\n"
     ]
    }
   ],
   "execution_count": 23
  },
  {
   "metadata": {
    "ExecuteTime": {
     "end_time": "2025-05-13T06:37:18.675585Z",
     "start_time": "2025-05-13T06:37:18.131005Z"
    }
   },
   "cell_type": "code",
   "source": "import pandas as pd",
   "id": "b33c4771c593c104",
   "outputs": [],
   "execution_count": 26
  },
  {
   "metadata": {
    "ExecuteTime": {
     "end_time": "2025-05-13T06:39:00.965263Z",
     "start_time": "2025-05-13T06:39:00.954782Z"
    }
   },
   "cell_type": "code",
   "source": [
    "s = pd.Series(np.arange(5), index=['a','b','c','d','e'])\n",
    "print(s)\n",
    "print()\n",
    "s = pd.Series(np.linspace(0,1,5))\n",
    "print(s)\n"
   ],
   "id": "5534091b7adad318",
   "outputs": [
    {
     "name": "stdout",
     "output_type": "stream",
     "text": [
      "a    0\n",
      "b    1\n",
      "c    2\n",
      "d    3\n",
      "e    4\n",
      "dtype: int64\n",
      "\n",
      "a    0.00\n",
      "b    0.25\n",
      "c    0.50\n",
      "d    0.75\n",
      "e    1.00\n",
      "dtype: float64\n"
     ]
    }
   ],
   "execution_count": 28
  },
  {
   "metadata": {
    "ExecuteTime": {
     "end_time": "2025-05-13T06:43:57.057550Z",
     "start_time": "2025-05-13T06:43:57.039068Z"
    }
   },
   "cell_type": "code",
   "source": [
    "d = {\"a\":10, \"b\":20, \"c\":30, \"d\":40, \"e\":50}\n",
    "print(pd.Series(d))\n",
    "print()\n",
    "print(pd.Series(d, index = ['a','b','c','d', 'f']))"
   ],
   "id": "7240a462debfdab1",
   "outputs": [
    {
     "name": "stdout",
     "output_type": "stream",
     "text": [
      "a    10\n",
      "b    20\n",
      "c    30\n",
      "d    40\n",
      "e    50\n",
      "dtype: int64\n",
      "\n",
      "a    10.0\n",
      "b    20.0\n",
      "c    30.0\n",
      "d    40.0\n",
      "f     NaN\n",
      "dtype: float64\n"
     ]
    }
   ],
   "execution_count": 35
  },
  {
   "metadata": {},
   "cell_type": "code",
   "outputs": [],
   "execution_count": null,
   "source": "",
   "id": "fab0e876a87da7c"
  },
  {
   "metadata": {
    "ExecuteTime": {
     "end_time": "2025-05-13T06:48:35.759159Z",
     "start_time": "2025-05-13T06:48:35.736455Z"
    }
   },
   "cell_type": "code",
   "source": [
    "s = pd.Series(np.arange(5), index=['a','b','c','d', 'e'])\n",
    "print(\"Choose one\")\n",
    "print(s[\"a\"])\n",
    "print(\"Choose new\")\n",
    "print(s[[\"a\",\"d\"]])\n",
    "print(\"Subset\")\n",
    "print(s[1:])\n",
    "print(\"Addition\")\n",
    "print(s+s)"
   ],
   "id": "387448105384c00e",
   "outputs": [
    {
     "name": "stdout",
     "output_type": "stream",
     "text": [
      "Choose one\n",
      "0\n",
      "Choose new\n",
      "a    0\n",
      "d    3\n",
      "dtype: int64\n",
      "Subset\n",
      "b    1\n",
      "c    2\n",
      "d    3\n",
      "e    4\n",
      "dtype: int64\n",
      "Addition\n",
      "a    0\n",
      "b    2\n",
      "c    4\n",
      "d    6\n",
      "e    8\n",
      "dtype: int64\n"
     ]
    }
   ],
   "execution_count": 38
  },
  {
   "metadata": {
    "ExecuteTime": {
     "end_time": "2025-05-13T06:51:45.233431Z",
     "start_time": "2025-05-13T06:51:45.216409Z"
    }
   },
   "cell_type": "code",
   "source": "print(s[s>2])",
   "id": "87fc13a58e1ab2b8",
   "outputs": [
    {
     "name": "stdout",
     "output_type": "stream",
     "text": [
      "d    3\n",
      "e    4\n",
      "dtype: int64\n"
     ]
    }
   ],
   "execution_count": 39
  },
  {
   "metadata": {
    "ExecuteTime": {
     "end_time": "2025-05-13T06:53:42.926580Z",
     "start_time": "2025-05-13T06:53:42.913409Z"
    }
   },
   "cell_type": "code",
   "source": [
    "s = pd.Series(np.arange(5), index=['a','b','c','d', 'e'])\n",
    "s.name = \"Dannie\"\n",
    "s.index.name = \"Index\"\n",
    "print(s)"
   ],
   "id": "16f6915b09ada07c",
   "outputs": [
    {
     "name": "stdout",
     "output_type": "stream",
     "text": [
      "Index\n",
      "a    0\n",
      "b    1\n",
      "c    2\n",
      "d    3\n",
      "e    4\n",
      "Name: Dannie, dtype: int64\n"
     ]
    }
   ],
   "execution_count": 40
  },
  {
   "metadata": {
    "ExecuteTime": {
     "end_time": "2025-05-13T06:59:18.593301Z",
     "start_time": "2025-05-13T06:59:18.569996Z"
    }
   },
   "cell_type": "code",
   "source": [
    "students_dict = {\"Student\": [\"Student 1\", \"Student 2\", \"Student 3\"], \"math\": [5,4,3], \"physics\": [4,5,5]}\n",
    "students = pd.DataFrame(students_dict)\n",
    "print(students)\n",
    "print(students.index)\n",
    "print(students.columns)\n",
    "students.index = [\"A\", \"B\", \"C\"]\n",
    "print(students)\n",
    "\n"
   ],
   "id": "adafb1e175c4bb9c",
   "outputs": [
    {
     "name": "stdout",
     "output_type": "stream",
     "text": [
      "     Student  math  physics\n",
      "0  Student 1     5        4\n",
      "1  Student 2     4        5\n",
      "2  Student 3     3        5\n",
      "RangeIndex(start=0, stop=3, step=1)\n",
      "Index(['Student', 'math', 'physics'], dtype='object')\n",
      "     Student  math  physics\n",
      "A  Student 1     5        4\n",
      "B  Student 2     4        5\n",
      "C  Student 3     3        5\n"
     ]
    }
   ],
   "execution_count": 43
  },
  {
   "metadata": {
    "ExecuteTime": {
     "end_time": "2025-05-13T06:59:58.090933Z",
     "start_time": "2025-05-13T06:59:58.076052Z"
    }
   },
   "cell_type": "code",
   "source": "print(students.loc[\"B\":])",
   "id": "1df61a6b3b22e02f",
   "outputs": [
    {
     "name": "stdout",
     "output_type": "stream",
     "text": [
      "     Student  math  physics\n",
      "B  Student 2     4        5\n",
      "C  Student 3     3        5\n"
     ]
    }
   ],
   "execution_count": 44
  },
  {
   "metadata": {
    "ExecuteTime": {
     "end_time": "2025-05-13T07:19:19.270341Z",
     "start_time": "2025-05-13T07:19:19.164739Z"
    }
   },
   "cell_type": "code",
   "source": "print(type(students[\"Student\"]))",
   "id": "d9531dab0ca3a1c6",
   "outputs": [
    {
     "ename": "KeyError",
     "evalue": "'Student'",
     "output_type": "error",
     "traceback": [
      "\u001B[31m---------------------------------------------------------------------------\u001B[39m",
      "\u001B[31mKeyError\u001B[39m                                  Traceback (most recent call last)",
      "\u001B[36mFile \u001B[39m\u001B[32m~\\AppData\\Local\\Programs\\Python\\Python312\\Lib\\site-packages\\pandas\\core\\indexes\\base.py:3805\u001B[39m, in \u001B[36mIndex.get_loc\u001B[39m\u001B[34m(self, key)\u001B[39m\n\u001B[32m   3804\u001B[39m \u001B[38;5;28;01mtry\u001B[39;00m:\n\u001B[32m-> \u001B[39m\u001B[32m3805\u001B[39m     \u001B[38;5;28;01mreturn\u001B[39;00m \u001B[38;5;28;43mself\u001B[39;49m\u001B[43m.\u001B[49m\u001B[43m_engine\u001B[49m\u001B[43m.\u001B[49m\u001B[43mget_loc\u001B[49m\u001B[43m(\u001B[49m\u001B[43mcasted_key\u001B[49m\u001B[43m)\u001B[49m\n\u001B[32m   3806\u001B[39m \u001B[38;5;28;01mexcept\u001B[39;00m \u001B[38;5;167;01mKeyError\u001B[39;00m \u001B[38;5;28;01mas\u001B[39;00m err:\n",
      "\u001B[36mFile \u001B[39m\u001B[32mindex.pyx:167\u001B[39m, in \u001B[36mpandas._libs.index.IndexEngine.get_loc\u001B[39m\u001B[34m()\u001B[39m\n",
      "\u001B[36mFile \u001B[39m\u001B[32mindex.pyx:196\u001B[39m, in \u001B[36mpandas._libs.index.IndexEngine.get_loc\u001B[39m\u001B[34m()\u001B[39m\n",
      "\u001B[36mFile \u001B[39m\u001B[32mpandas\\\\_libs\\\\hashtable_class_helper.pxi:7081\u001B[39m, in \u001B[36mpandas._libs.hashtable.PyObjectHashTable.get_item\u001B[39m\u001B[34m()\u001B[39m\n",
      "\u001B[36mFile \u001B[39m\u001B[32mpandas\\\\_libs\\\\hashtable_class_helper.pxi:7089\u001B[39m, in \u001B[36mpandas._libs.hashtable.PyObjectHashTable.get_item\u001B[39m\u001B[34m()\u001B[39m\n",
      "\u001B[31mKeyError\u001B[39m: 'Student'",
      "\nThe above exception was the direct cause of the following exception:\n",
      "\u001B[31mKeyError\u001B[39m                                  Traceback (most recent call last)",
      "\u001B[36mCell\u001B[39m\u001B[36m \u001B[39m\u001B[32mIn[59]\u001B[39m\u001B[32m, line 1\u001B[39m\n\u001B[32m----> \u001B[39m\u001B[32m1\u001B[39m \u001B[38;5;28mprint\u001B[39m(\u001B[38;5;28mtype\u001B[39m(\u001B[43mstudents\u001B[49m\u001B[43m[\u001B[49m\u001B[33;43m\"\u001B[39;49m\u001B[33;43mStudent\u001B[39;49m\u001B[33;43m\"\u001B[39;49m\u001B[43m]\u001B[49m))\n",
      "\u001B[36mFile \u001B[39m\u001B[32m~\\AppData\\Local\\Programs\\Python\\Python312\\Lib\\site-packages\\pandas\\core\\frame.py:4102\u001B[39m, in \u001B[36mDataFrame.__getitem__\u001B[39m\u001B[34m(self, key)\u001B[39m\n\u001B[32m   4100\u001B[39m \u001B[38;5;28;01mif\u001B[39;00m \u001B[38;5;28mself\u001B[39m.columns.nlevels > \u001B[32m1\u001B[39m:\n\u001B[32m   4101\u001B[39m     \u001B[38;5;28;01mreturn\u001B[39;00m \u001B[38;5;28mself\u001B[39m._getitem_multilevel(key)\n\u001B[32m-> \u001B[39m\u001B[32m4102\u001B[39m indexer = \u001B[38;5;28;43mself\u001B[39;49m\u001B[43m.\u001B[49m\u001B[43mcolumns\u001B[49m\u001B[43m.\u001B[49m\u001B[43mget_loc\u001B[49m\u001B[43m(\u001B[49m\u001B[43mkey\u001B[49m\u001B[43m)\u001B[49m\n\u001B[32m   4103\u001B[39m \u001B[38;5;28;01mif\u001B[39;00m is_integer(indexer):\n\u001B[32m   4104\u001B[39m     indexer = [indexer]\n",
      "\u001B[36mFile \u001B[39m\u001B[32m~\\AppData\\Local\\Programs\\Python\\Python312\\Lib\\site-packages\\pandas\\core\\indexes\\base.py:3812\u001B[39m, in \u001B[36mIndex.get_loc\u001B[39m\u001B[34m(self, key)\u001B[39m\n\u001B[32m   3807\u001B[39m     \u001B[38;5;28;01mif\u001B[39;00m \u001B[38;5;28misinstance\u001B[39m(casted_key, \u001B[38;5;28mslice\u001B[39m) \u001B[38;5;129;01mor\u001B[39;00m (\n\u001B[32m   3808\u001B[39m         \u001B[38;5;28misinstance\u001B[39m(casted_key, abc.Iterable)\n\u001B[32m   3809\u001B[39m         \u001B[38;5;129;01mand\u001B[39;00m \u001B[38;5;28many\u001B[39m(\u001B[38;5;28misinstance\u001B[39m(x, \u001B[38;5;28mslice\u001B[39m) \u001B[38;5;28;01mfor\u001B[39;00m x \u001B[38;5;129;01min\u001B[39;00m casted_key)\n\u001B[32m   3810\u001B[39m     ):\n\u001B[32m   3811\u001B[39m         \u001B[38;5;28;01mraise\u001B[39;00m InvalidIndexError(key)\n\u001B[32m-> \u001B[39m\u001B[32m3812\u001B[39m     \u001B[38;5;28;01mraise\u001B[39;00m \u001B[38;5;167;01mKeyError\u001B[39;00m(key) \u001B[38;5;28;01mfrom\u001B[39;00m\u001B[38;5;250m \u001B[39m\u001B[34;01merr\u001B[39;00m\n\u001B[32m   3813\u001B[39m \u001B[38;5;28;01mexcept\u001B[39;00m \u001B[38;5;167;01mTypeError\u001B[39;00m:\n\u001B[32m   3814\u001B[39m     \u001B[38;5;66;03m# If we have a listlike key, _check_indexing_error will raise\u001B[39;00m\n\u001B[32m   3815\u001B[39m     \u001B[38;5;66;03m#  InvalidIndexError. Otherwise we fall through and re-raise\u001B[39;00m\n\u001B[32m   3816\u001B[39m     \u001B[38;5;66;03m#  the TypeError.\u001B[39;00m\n\u001B[32m   3817\u001B[39m     \u001B[38;5;28mself\u001B[39m._check_indexing_error(key)\n",
      "\u001B[31mKeyError\u001B[39m: 'Student'"
     ]
    }
   ],
   "execution_count": 59
  },
  {
   "metadata": {
    "ExecuteTime": {
     "end_time": "2025-05-13T07:28:26.924014Z",
     "start_time": "2025-05-13T07:28:26.903503Z"
    }
   },
   "cell_type": "code",
   "source": [
    "students = pd.read_csv(\"students_performance.csv\")\n",
    "\n"
   ],
   "id": "80beb8423942421f",
   "outputs": [],
   "execution_count": 70
  },
  {
   "metadata": {
    "ExecuteTime": {
     "end_time": "2025-05-13T07:28:29.394305Z",
     "start_time": "2025-05-13T07:28:29.381059Z"
    }
   },
   "cell_type": "code",
   "source": [
    "students.head()\n",
    "print(students[10:13])"
   ],
   "id": "3de78dac44a8bb46",
   "outputs": [
    {
     "name": "stdout",
     "output_type": "stream",
     "text": [
      "    gender race/ethnicity parental level of education     lunch  \\\n",
      "10    male        group C          associate's degree  standard   \n",
      "11    male        group D          associate's degree  standard   \n",
      "12  female        group B                 high school  standard   \n",
      "\n",
      "   test preparation course  math score  reading score  writing score  \n",
      "10                    none          58             54             52  \n",
      "11                    none          40             52             43  \n",
      "12                    none          65             81             73  \n"
     ]
    }
   ],
   "execution_count": 71
  },
  {
   "metadata": {
    "ExecuteTime": {
     "end_time": "2025-05-13T07:26:17.680511Z",
     "start_time": "2025-05-13T07:26:17.662471Z"
    }
   },
   "cell_type": "code",
   "source": "print(students[students[\"test preparation course\"] == \"completed\"][\"math score\"].head())\n",
   "id": "e21f9511c0403e4",
   "outputs": [
    {
     "name": "stdout",
     "output_type": "stream",
     "text": [
      "1     69\n",
      "6     88\n",
      "8     64\n",
      "13    78\n",
      "18    46\n",
      "Name: math score, dtype: int64\n"
     ]
    }
   ],
   "execution_count": 65
  },
  {
   "metadata": {
    "ExecuteTime": {
     "end_time": "2025-05-13T07:28:34.839865Z",
     "start_time": "2025-05-13T07:28:34.820111Z"
    }
   },
   "cell_type": "code",
   "source": "with_course = students[students[\"test preparation course\"] == \"complicated\"]",
   "id": "e1f2916ee4a43cdc",
   "outputs": [],
   "execution_count": 73
  },
  {
   "metadata": {
    "ExecuteTime": {
     "end_time": "2025-05-13T07:28:36.748489Z",
     "start_time": "2025-05-13T07:28:36.723076Z"
    }
   },
   "cell_type": "code",
   "source": "with_course[[\"math score\", \"reading score\", \"writing score\"]].sort_values([\"math score\", \"reading score\", \"writing score\"],ascending=False)",
   "id": "5c865b3c6d70a12e",
   "outputs": [
    {
     "data": {
      "text/plain": [
       "Empty DataFrame\n",
       "Columns: [math score, reading score, writing score]\n",
       "Index: []"
      ],
      "text/html": [
       "<div>\n",
       "<style scoped>\n",
       "    .dataframe tbody tr th:only-of-type {\n",
       "        vertical-align: middle;\n",
       "    }\n",
       "\n",
       "    .dataframe tbody tr th {\n",
       "        vertical-align: top;\n",
       "    }\n",
       "\n",
       "    .dataframe thead th {\n",
       "        text-align: right;\n",
       "    }\n",
       "</style>\n",
       "<table border=\"1\" class=\"dataframe\">\n",
       "  <thead>\n",
       "    <tr style=\"text-align: right;\">\n",
       "      <th></th>\n",
       "      <th>math score</th>\n",
       "      <th>reading score</th>\n",
       "      <th>writing score</th>\n",
       "    </tr>\n",
       "  </thead>\n",
       "  <tbody>\n",
       "  </tbody>\n",
       "</table>\n",
       "</div>"
      ]
     },
     "execution_count": 74,
     "metadata": {},
     "output_type": "execute_result"
    }
   ],
   "execution_count": 74
  },
  {
   "metadata": {
    "ExecuteTime": {
     "end_time": "2025-05-13T07:30:46.037237Z",
     "start_time": "2025-05-13T07:30:46.024497Z"
    }
   },
   "cell_type": "code",
   "source": "students[\"total score\"]=students[\"math score\"] + students[\"reading score\"] + students[\"writing score\"]",
   "id": "2aedf38b7a7c68d8",
   "outputs": [],
   "execution_count": 75
  },
  {
   "metadata": {
    "ExecuteTime": {
     "end_time": "2025-05-13T07:31:45.718282Z",
     "start_time": "2025-05-13T07:31:45.690744Z"
    }
   },
   "cell_type": "code",
   "source": "students.sort_values(\"total score\", ascending=False).head(15)",
   "id": "b3d059a4833019e2",
   "outputs": [
    {
     "data": {
      "text/plain": [
       "     gender race/ethnicity parental level of education         lunch  \\\n",
       "916    male        group E           bachelor's degree      standard   \n",
       "962  female        group E          associate's degree      standard   \n",
       "458  female        group E           bachelor's degree      standard   \n",
       "114  female        group E           bachelor's degree      standard   \n",
       "712  female        group D                some college      standard   \n",
       "179  female        group D            some high school      standard   \n",
       "165  female        group C           bachelor's degree      standard   \n",
       "625    male        group D                some college      standard   \n",
       "685  female        group E             master's degree      standard   \n",
       "903  female        group D           bachelor's degree  free/reduced   \n",
       "149    male        group E          associate's degree  free/reduced   \n",
       "957  female        group D             master's degree      standard   \n",
       "566  female        group E           bachelor's degree  free/reduced   \n",
       "594  female        group C           bachelor's degree      standard   \n",
       "717  female        group C          associate's degree      standard   \n",
       "\n",
       "    test preparation course  math score  reading score  writing score  \\\n",
       "916               completed         100            100            100   \n",
       "962                    none         100            100            100   \n",
       "458                    none         100            100            100   \n",
       "114               completed          99            100            100   \n",
       "712                    none          98            100             99   \n",
       "179               completed          97            100            100   \n",
       "165               completed          96            100            100   \n",
       "625               completed         100             97             99   \n",
       "685               completed          94             99            100   \n",
       "903               completed          93            100            100   \n",
       "149               completed         100            100             93   \n",
       "957                    none          92            100            100   \n",
       "566               completed          92            100            100   \n",
       "594               completed          92            100             99   \n",
       "717               completed          96             96             99   \n",
       "\n",
       "     total score  \n",
       "916          300  \n",
       "962          300  \n",
       "458          300  \n",
       "114          299  \n",
       "712          297  \n",
       "179          297  \n",
       "165          296  \n",
       "625          296  \n",
       "685          293  \n",
       "903          293  \n",
       "149          293  \n",
       "957          292  \n",
       "566          292  \n",
       "594          291  \n",
       "717          291  "
      ],
      "text/html": [
       "<div>\n",
       "<style scoped>\n",
       "    .dataframe tbody tr th:only-of-type {\n",
       "        vertical-align: middle;\n",
       "    }\n",
       "\n",
       "    .dataframe tbody tr th {\n",
       "        vertical-align: top;\n",
       "    }\n",
       "\n",
       "    .dataframe thead th {\n",
       "        text-align: right;\n",
       "    }\n",
       "</style>\n",
       "<table border=\"1\" class=\"dataframe\">\n",
       "  <thead>\n",
       "    <tr style=\"text-align: right;\">\n",
       "      <th></th>\n",
       "      <th>gender</th>\n",
       "      <th>race/ethnicity</th>\n",
       "      <th>parental level of education</th>\n",
       "      <th>lunch</th>\n",
       "      <th>test preparation course</th>\n",
       "      <th>math score</th>\n",
       "      <th>reading score</th>\n",
       "      <th>writing score</th>\n",
       "      <th>total score</th>\n",
       "    </tr>\n",
       "  </thead>\n",
       "  <tbody>\n",
       "    <tr>\n",
       "      <th>916</th>\n",
       "      <td>male</td>\n",
       "      <td>group E</td>\n",
       "      <td>bachelor's degree</td>\n",
       "      <td>standard</td>\n",
       "      <td>completed</td>\n",
       "      <td>100</td>\n",
       "      <td>100</td>\n",
       "      <td>100</td>\n",
       "      <td>300</td>\n",
       "    </tr>\n",
       "    <tr>\n",
       "      <th>962</th>\n",
       "      <td>female</td>\n",
       "      <td>group E</td>\n",
       "      <td>associate's degree</td>\n",
       "      <td>standard</td>\n",
       "      <td>none</td>\n",
       "      <td>100</td>\n",
       "      <td>100</td>\n",
       "      <td>100</td>\n",
       "      <td>300</td>\n",
       "    </tr>\n",
       "    <tr>\n",
       "      <th>458</th>\n",
       "      <td>female</td>\n",
       "      <td>group E</td>\n",
       "      <td>bachelor's degree</td>\n",
       "      <td>standard</td>\n",
       "      <td>none</td>\n",
       "      <td>100</td>\n",
       "      <td>100</td>\n",
       "      <td>100</td>\n",
       "      <td>300</td>\n",
       "    </tr>\n",
       "    <tr>\n",
       "      <th>114</th>\n",
       "      <td>female</td>\n",
       "      <td>group E</td>\n",
       "      <td>bachelor's degree</td>\n",
       "      <td>standard</td>\n",
       "      <td>completed</td>\n",
       "      <td>99</td>\n",
       "      <td>100</td>\n",
       "      <td>100</td>\n",
       "      <td>299</td>\n",
       "    </tr>\n",
       "    <tr>\n",
       "      <th>712</th>\n",
       "      <td>female</td>\n",
       "      <td>group D</td>\n",
       "      <td>some college</td>\n",
       "      <td>standard</td>\n",
       "      <td>none</td>\n",
       "      <td>98</td>\n",
       "      <td>100</td>\n",
       "      <td>99</td>\n",
       "      <td>297</td>\n",
       "    </tr>\n",
       "    <tr>\n",
       "      <th>179</th>\n",
       "      <td>female</td>\n",
       "      <td>group D</td>\n",
       "      <td>some high school</td>\n",
       "      <td>standard</td>\n",
       "      <td>completed</td>\n",
       "      <td>97</td>\n",
       "      <td>100</td>\n",
       "      <td>100</td>\n",
       "      <td>297</td>\n",
       "    </tr>\n",
       "    <tr>\n",
       "      <th>165</th>\n",
       "      <td>female</td>\n",
       "      <td>group C</td>\n",
       "      <td>bachelor's degree</td>\n",
       "      <td>standard</td>\n",
       "      <td>completed</td>\n",
       "      <td>96</td>\n",
       "      <td>100</td>\n",
       "      <td>100</td>\n",
       "      <td>296</td>\n",
       "    </tr>\n",
       "    <tr>\n",
       "      <th>625</th>\n",
       "      <td>male</td>\n",
       "      <td>group D</td>\n",
       "      <td>some college</td>\n",
       "      <td>standard</td>\n",
       "      <td>completed</td>\n",
       "      <td>100</td>\n",
       "      <td>97</td>\n",
       "      <td>99</td>\n",
       "      <td>296</td>\n",
       "    </tr>\n",
       "    <tr>\n",
       "      <th>685</th>\n",
       "      <td>female</td>\n",
       "      <td>group E</td>\n",
       "      <td>master's degree</td>\n",
       "      <td>standard</td>\n",
       "      <td>completed</td>\n",
       "      <td>94</td>\n",
       "      <td>99</td>\n",
       "      <td>100</td>\n",
       "      <td>293</td>\n",
       "    </tr>\n",
       "    <tr>\n",
       "      <th>903</th>\n",
       "      <td>female</td>\n",
       "      <td>group D</td>\n",
       "      <td>bachelor's degree</td>\n",
       "      <td>free/reduced</td>\n",
       "      <td>completed</td>\n",
       "      <td>93</td>\n",
       "      <td>100</td>\n",
       "      <td>100</td>\n",
       "      <td>293</td>\n",
       "    </tr>\n",
       "    <tr>\n",
       "      <th>149</th>\n",
       "      <td>male</td>\n",
       "      <td>group E</td>\n",
       "      <td>associate's degree</td>\n",
       "      <td>free/reduced</td>\n",
       "      <td>completed</td>\n",
       "      <td>100</td>\n",
       "      <td>100</td>\n",
       "      <td>93</td>\n",
       "      <td>293</td>\n",
       "    </tr>\n",
       "    <tr>\n",
       "      <th>957</th>\n",
       "      <td>female</td>\n",
       "      <td>group D</td>\n",
       "      <td>master's degree</td>\n",
       "      <td>standard</td>\n",
       "      <td>none</td>\n",
       "      <td>92</td>\n",
       "      <td>100</td>\n",
       "      <td>100</td>\n",
       "      <td>292</td>\n",
       "    </tr>\n",
       "    <tr>\n",
       "      <th>566</th>\n",
       "      <td>female</td>\n",
       "      <td>group E</td>\n",
       "      <td>bachelor's degree</td>\n",
       "      <td>free/reduced</td>\n",
       "      <td>completed</td>\n",
       "      <td>92</td>\n",
       "      <td>100</td>\n",
       "      <td>100</td>\n",
       "      <td>292</td>\n",
       "    </tr>\n",
       "    <tr>\n",
       "      <th>594</th>\n",
       "      <td>female</td>\n",
       "      <td>group C</td>\n",
       "      <td>bachelor's degree</td>\n",
       "      <td>standard</td>\n",
       "      <td>completed</td>\n",
       "      <td>92</td>\n",
       "      <td>100</td>\n",
       "      <td>99</td>\n",
       "      <td>291</td>\n",
       "    </tr>\n",
       "    <tr>\n",
       "      <th>717</th>\n",
       "      <td>female</td>\n",
       "      <td>group C</td>\n",
       "      <td>associate's degree</td>\n",
       "      <td>standard</td>\n",
       "      <td>completed</td>\n",
       "      <td>96</td>\n",
       "      <td>96</td>\n",
       "      <td>99</td>\n",
       "      <td>291</td>\n",
       "    </tr>\n",
       "  </tbody>\n",
       "</table>\n",
       "</div>"
      ]
     },
     "execution_count": 76,
     "metadata": {},
     "output_type": "execute_result"
    }
   ],
   "execution_count": 76
  },
  {
   "metadata": {},
   "cell_type": "code",
   "outputs": [],
   "execution_count": null,
   "source": "",
   "id": "79033279cb39538e"
  },
  {
   "metadata": {
    "ExecuteTime": {
     "end_time": "2025-05-13T07:38:38.309176Z",
     "start_time": "2025-05-13T07:38:38.283821Z"
    }
   },
   "cell_type": "code",
   "source": "students.groupby([\"gender\", \"test preparation course\"])[\"writing score\"].count()",
   "id": "afd372de5d23d91a",
   "outputs": [
    {
     "data": {
      "text/plain": [
       "gender  test preparation course\n",
       "female  completed                  184\n",
       "        none                       334\n",
       "male    completed                  174\n",
       "        none                       308\n",
       "Name: writing score, dtype: int64"
      ]
     },
     "execution_count": 77,
     "metadata": {},
     "output_type": "execute_result"
    }
   ],
   "execution_count": 77
  },
  {
   "metadata": {
    "ExecuteTime": {
     "end_time": "2025-05-13T07:50:15.459488Z",
     "start_time": "2025-05-13T07:50:15.427840Z"
    }
   },
   "cell_type": "code",
   "source": [
    "agg_functions = {\"math score\":[\"mean\", \"median\"]}\n",
    "students.groupby([\"gender\", \"test preparation course\"]).agg(agg_functions)"
   ],
   "id": "98e7570b405bbe7d",
   "outputs": [
    {
     "data": {
      "text/plain": [
       "                               math score       \n",
       "                                     mean median\n",
       "gender test preparation course                  \n",
       "female completed                67.195652   67.0\n",
       "       none                     61.670659   62.0\n",
       "male   completed                72.339080   73.0\n",
       "       none                     66.688312   67.0"
      ],
      "text/html": [
       "<div>\n",
       "<style scoped>\n",
       "    .dataframe tbody tr th:only-of-type {\n",
       "        vertical-align: middle;\n",
       "    }\n",
       "\n",
       "    .dataframe tbody tr th {\n",
       "        vertical-align: top;\n",
       "    }\n",
       "\n",
       "    .dataframe thead tr th {\n",
       "        text-align: left;\n",
       "    }\n",
       "\n",
       "    .dataframe thead tr:last-of-type th {\n",
       "        text-align: right;\n",
       "    }\n",
       "</style>\n",
       "<table border=\"1\" class=\"dataframe\">\n",
       "  <thead>\n",
       "    <tr>\n",
       "      <th></th>\n",
       "      <th></th>\n",
       "      <th colspan=\"2\" halign=\"left\">math score</th>\n",
       "    </tr>\n",
       "    <tr>\n",
       "      <th></th>\n",
       "      <th></th>\n",
       "      <th>mean</th>\n",
       "      <th>median</th>\n",
       "    </tr>\n",
       "    <tr>\n",
       "      <th>gender</th>\n",
       "      <th>test preparation course</th>\n",
       "      <th></th>\n",
       "      <th></th>\n",
       "    </tr>\n",
       "  </thead>\n",
       "  <tbody>\n",
       "    <tr>\n",
       "      <th rowspan=\"2\" valign=\"top\">female</th>\n",
       "      <th>completed</th>\n",
       "      <td>67.195652</td>\n",
       "      <td>67.0</td>\n",
       "    </tr>\n",
       "    <tr>\n",
       "      <th>none</th>\n",
       "      <td>61.670659</td>\n",
       "      <td>62.0</td>\n",
       "    </tr>\n",
       "    <tr>\n",
       "      <th rowspan=\"2\" valign=\"top\">male</th>\n",
       "      <th>completed</th>\n",
       "      <td>72.339080</td>\n",
       "      <td>73.0</td>\n",
       "    </tr>\n",
       "    <tr>\n",
       "      <th>none</th>\n",
       "      <td>66.688312</td>\n",
       "      <td>67.0</td>\n",
       "    </tr>\n",
       "  </tbody>\n",
       "</table>\n",
       "</div>"
      ]
     },
     "execution_count": 79,
     "metadata": {},
     "output_type": "execute_result"
    }
   ],
   "execution_count": 79
  },
  {
   "metadata": {
    "ExecuteTime": {
     "end_time": "2025-05-13T07:52:15.834491Z",
     "start_time": "2025-05-13T07:52:14.353817Z"
    }
   },
   "cell_type": "code",
   "source": "import matplotlib.pyplot as plt\n",
   "id": "d191077efb676c3e",
   "outputs": [],
   "execution_count": 81
  },
  {
   "metadata": {
    "ExecuteTime": {
     "end_time": "2025-05-13T07:52:19.329686Z",
     "start_time": "2025-05-13T07:52:18.535376Z"
    }
   },
   "cell_type": "code",
   "source": [
    "plt.hist(students[\"math score\"], label=\"Test po mathematics\")\n",
    "plt.xlabel(\"Scores for test\")\n",
    "plt.legend()\n",
    "plt.show()"
   ],
   "id": "4196d30d2021008d",
   "outputs": [
    {
     "data": {
      "text/plain": [
       "<Figure size 640x480 with 1 Axes>"
      ],
      "image/png": "[encoded data removed]"
     },
     "metadata": {},
     "output_type": "display_data"
    }
   ],
   "execution_count": 82
  }
 ],
 "metadata": {
  "kernelspec": {
   "display_name": "Python 3",
   "language": "python",
   "name": "python3"
  },
  "language_info": {
   "codemirror_mode": {
    "name": "ipython",
    "version": 2
   },
   "file_extension": ".py",
   "mimetype": "text/x-python",
   "name": "python",
   "nbconvert_exporter": "python",
   "pygments_lexer": "ipython2",
   "version": "2.7.6"
  }
 },
 "nbformat": 4,
 "nbformat_minor": 5
}
